{
 "cells": [
  {
   "cell_type": "markdown",
   "metadata": {},
   "source": [
    "## João "
   ]
  },
  {
   "cell_type": "code",
   "execution_count": 3,
   "metadata": {},
   "outputs": [],
   "source": [
    "import csv\n",
    "import numpy as np\n",
    "import pandas as pd"
   ]
  },
  {
   "cell_type": "code",
   "execution_count": 46,
   "metadata": {},
   "outputs": [],
   "source": [
    "def split_csvfile(row):\n",
    "    return float(row[0]), float(row[1]), float(row[2]), float(row[3]), sum(float(elem) for elem in row[:-1])\n",
    "\n",
    "def mean_max_min(index, a):\n",
    "    b = [el[i] for el in a]\n",
    "    return np.mean(b), max(b), min(b)\n",
    "\n",
    "def closest_row(index, dataset, show_range):\n",
    "    line = dataset.iloc[index].tolist()\n",
    "    dataset['eu_distance'] = np.linalg.norm(dataset[['sepal_length','sepal_width','petal_length','petal_width']].sub(line[:-1]), axis=1)\n",
    "    result = dataset.sort_values(['eu_distance']).iloc[1:show_range+1]\n",
    "    dataset.drop('eu_distance', axis=1, inplace=True)\n",
    "    return result\n"
   ]
  },
  {
   "cell_type": "code",
   "execution_count": 58,
   "metadata": {},
   "outputs": [
    {
     "data": {
      "text/plain": [
       "['sepal_length', 'sepal_width', 'petal_length', 'petal_width', 'species']"
      ]
     },
     "execution_count": 58,
     "metadata": {},
     "output_type": "execute_result"
    }
   ],
   "source": [
    "file = 'iris.csv.txt'\n",
    "csv_file = open(file , \"r\")\n",
    "csv_reader = csv.reader(csv_file, delimiter = ',')\n",
    "csv_reader.__next__()"
   ]
  },
  {
   "cell_type": "code",
   "execution_count": 59,
   "metadata": {},
   "outputs": [
    {
     "name": "stdout",
     "output_type": "stream",
     "text": [
      "Mean | MAX | MIN || Column  0 (5.843333333333334, 7.9, 4.3)\n",
      "Mean | MAX | MIN || Column  1 (3.0540000000000003, 4.4, 2.0)\n",
      "Mean | MAX | MIN || Column  2 (3.758666666666666, 6.9, 1.0)\n",
      "Mean | MAX | MIN || Column  3 (1.1986666666666668, 2.5, 0.1)\n"
     ]
    }
   ],
   "source": [
    "rows = []\n",
    "for row in csv_reader:\n",
    "\trows.append(split_csvfile(row))\n",
    "\n",
    "for i in range (4):\n",
    "\tprint(\"Mean | MAX | MIN || Column \",i , mean_max_min(i, rows))\n"
   ]
  },
  {
   "cell_type": "code",
   "execution_count": 62,
   "metadata": {},
   "outputs": [
    {
     "name": "stdout",
     "output_type": "stream",
     "text": [
      "\u001b[1m8.4\u001b[0m|\u001b[1m8.5\u001b[0m|\u001b[1m8.9\u001b[0m|\u001b[1m8.9\u001b[0m|\u001b[1m9.1\u001b[0m|\u001b[1m9.3\u001b[0m|\u001b[1m9.4\u001b[0m|\u001b[1m9.4\u001b[0m|\u001b[1m9.4\u001b[0m|\u001b[1m9.4\u001b[0m|"
     ]
    }
   ],
   "source": [
    "rows = sorted(rows, key=lambda x: x[-1])\n",
    " #print(\"\\n10 lines with lower total sum:\", rows[:10])\n",
    "\n",
    "min_sums = [str(round(i[4], 2)) for i in rows[:10]]\n",
    "for i in range(len(min_sums)):\n",
    "\tprint ('\\033[1m' + min_sums[i] + '\\033[0m' + \"|\", end=\"\")"
   ]
  },
  {
   "cell_type": "code",
   "execution_count": 53,
   "metadata": {},
   "outputs": [
    {
     "name": "stdout",
     "output_type": "stream",
     "text": [
      "    sepal_length  sepal_width  petal_length  petal_width species  eu_distance\n",
      "1            4.9          3.0           1.4          0.2  setosa     0.141421\n",
      "34           4.9          3.1           1.5          0.1  setosa     0.173205\n",
      "37           4.9          3.1           1.5          0.1  setosa     0.173205\n",
      "9            4.9          3.1           1.5          0.1  setosa     0.173205\n",
      "45           4.8          3.0           1.4          0.3  setosa     0.200000\n",
      "    sepal_length  sepal_width  petal_length  petal_width species  eu_distance\n",
      "1            4.9          3.0           1.4          0.2  setosa     0.141421\n",
      "34           4.9          3.1           1.5          0.1  setosa     0.173205\n",
      "37           4.9          3.1           1.5          0.1  setosa     0.173205\n",
      "   sepal_length  sepal_width  petal_length  petal_width species  eu_distance\n",
      "1           4.9          3.0           1.4          0.2  setosa     0.141421\n"
     ]
    }
   ],
   "source": [
    "data = pd.read_csv(\"iris.csv.txt\")\n",
    "\n",
    "print(closest_row(12, data, 5))\n",
    "print(closest_row(12, data, 3))\n",
    "print(closest_row(12, data, 1))"
   ]
  }
 ],
 "metadata": {
  "kernelspec": {
   "display_name": "Python 3",
   "language": "python",
   "name": "python3"
  },
  "language_info": {
   "codemirror_mode": {
    "name": "ipython",
    "version": 3
   },
   "file_extension": ".py",
   "mimetype": "text/x-python",
   "name": "python",
   "nbconvert_exporter": "python",
   "pygments_lexer": "ipython3",
   "version": "3.7.1"
  }
 },
 "nbformat": 4,
 "nbformat_minor": 2
}
